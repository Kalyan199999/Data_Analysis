{
 "cells": [
  {
   "cell_type": "markdown",
   "id": "2029e5bd-ea4d-455c-8031-226f44eeac32",
   "metadata": {},
   "source": [
    "# Olymic Data Analysis"
   ]
  },
  {
   "cell_type": "code",
   "execution_count": 1,
   "id": "bf8479e8-f5a8-412e-8bd5-076e772a404d",
   "metadata": {},
   "outputs": [],
   "source": [
    "import numpy as np\n",
    "import pandas as pd\n",
    "import matplotlib.pyplot as plt\n",
    "import seaborn as sns\n",
    "import warnings \n",
    "warnings.filterwarnings('ignore')"
   ]
  },
  {
   "cell_type": "code",
   "execution_count": 2,
   "id": "49d4f565-9814-4fc0-80c2-e3734cfb3e85",
   "metadata": {},
   "outputs": [],
   "source": [
    "path = '../datasets/'\n",
    "bios = pd.read_csv(f'{path}bios.csv')\n",
    "countries = pd.read_csv( f'{path}noc_regions.csv' )\n",
    "population = pd.read_csv(f'{path}populations.csv')\n",
    "results = pd.read_csv( f'{path}results.csv' )"
   ]
  },
  {
   "cell_type": "markdown",
   "id": "c903431d-2557-4878-96e0-227c95066aa5",
   "metadata": {},
   "source": [
    "# Import all the datasets"
   ]
  },
  {
   "cell_type": "code",
   "execution_count": 3,
   "id": "696e5980-2198-49d0-af1d-3b1069849e7c",
   "metadata": {},
   "outputs": [
    {
     "data": {
      "text/html": [
       "<div>\n",
       "<style scoped>\n",
       "    .dataframe tbody tr th:only-of-type {\n",
       "        vertical-align: middle;\n",
       "    }\n",
       "\n",
       "    .dataframe tbody tr th {\n",
       "        vertical-align: top;\n",
       "    }\n",
       "\n",
       "    .dataframe thead th {\n",
       "        text-align: right;\n",
       "    }\n",
       "</style>\n",
       "<table border=\"1\" class=\"dataframe\">\n",
       "  <thead>\n",
       "    <tr style=\"text-align: right;\">\n",
       "      <th></th>\n",
       "      <th>Roles</th>\n",
       "      <th>Sex</th>\n",
       "      <th>Full name</th>\n",
       "      <th>Used name</th>\n",
       "      <th>Born</th>\n",
       "      <th>Died</th>\n",
       "      <th>NOC</th>\n",
       "      <th>athlete_id</th>\n",
       "      <th>Measurements</th>\n",
       "      <th>Affiliations</th>\n",
       "      <th>Nick/petnames</th>\n",
       "      <th>Title(s)</th>\n",
       "      <th>Other names</th>\n",
       "      <th>Nationality</th>\n",
       "      <th>Original name</th>\n",
       "      <th>Name order</th>\n",
       "    </tr>\n",
       "  </thead>\n",
       "  <tbody>\n",
       "    <tr>\n",
       "      <th>0</th>\n",
       "      <td>Competed in Olympic Games</td>\n",
       "      <td>Male</td>\n",
       "      <td>François Joseph Marie Antoine \"Jean-François\"•...</td>\n",
       "      <td>Jean-François•Blanchy</td>\n",
       "      <td>12 December 1886 in Bordeaux, Gironde (FRA)</td>\n",
       "      <td>2 October 1960 in Saint-Jean-de-Luz, Pyrénées-...</td>\n",
       "      <td>France</td>\n",
       "      <td>1</td>\n",
       "      <td>NaN</td>\n",
       "      <td>NaN</td>\n",
       "      <td>NaN</td>\n",
       "      <td>NaN</td>\n",
       "      <td>NaN</td>\n",
       "      <td>NaN</td>\n",
       "      <td>NaN</td>\n",
       "      <td>NaN</td>\n",
       "    </tr>\n",
       "    <tr>\n",
       "      <th>1</th>\n",
       "      <td>Competed in Olympic Games</td>\n",
       "      <td>Male</td>\n",
       "      <td>Arnaud Benjamin•Boetsch</td>\n",
       "      <td>Arnaud•Boetsch</td>\n",
       "      <td>1 April 1969 in Meulan, Yvelines (FRA)</td>\n",
       "      <td>NaN</td>\n",
       "      <td>France</td>\n",
       "      <td>2</td>\n",
       "      <td>183 cm / 76 kg</td>\n",
       "      <td>Racing Club de France, Paris (FRA)</td>\n",
       "      <td>NaN</td>\n",
       "      <td>NaN</td>\n",
       "      <td>NaN</td>\n",
       "      <td>NaN</td>\n",
       "      <td>NaN</td>\n",
       "      <td>NaN</td>\n",
       "    </tr>\n",
       "    <tr>\n",
       "      <th>2</th>\n",
       "      <td>Competed in Olympic Games • Administrator</td>\n",
       "      <td>Male</td>\n",
       "      <td>Jean Laurent Robert•Borotra</td>\n",
       "      <td>Jean•Borotra</td>\n",
       "      <td>13 August 1898 in Biarritz, Pyrénées-Atlantiqu...</td>\n",
       "      <td>17 July 1994 in Arbonne, Pyrénées-Atlantiques ...</td>\n",
       "      <td>France</td>\n",
       "      <td>3</td>\n",
       "      <td>183 cm / 76 kg</td>\n",
       "      <td>TCP, Paris (FRA)</td>\n",
       "      <td>Le Basque Bondissant (The Bounding Basque)</td>\n",
       "      <td>NaN</td>\n",
       "      <td>NaN</td>\n",
       "      <td>NaN</td>\n",
       "      <td>NaN</td>\n",
       "      <td>NaN</td>\n",
       "    </tr>\n",
       "  </tbody>\n",
       "</table>\n",
       "</div>"
      ],
      "text/plain": [
       "                                       Roles   Sex  \\\n",
       "0                  Competed in Olympic Games  Male   \n",
       "1                  Competed in Olympic Games  Male   \n",
       "2  Competed in Olympic Games • Administrator  Male   \n",
       "\n",
       "                                           Full name              Used name  \\\n",
       "0  François Joseph Marie Antoine \"Jean-François\"•...  Jean-François•Blanchy   \n",
       "1                            Arnaud Benjamin•Boetsch         Arnaud•Boetsch   \n",
       "2                        Jean Laurent Robert•Borotra           Jean•Borotra   \n",
       "\n",
       "                                                Born  \\\n",
       "0        12 December 1886 in Bordeaux, Gironde (FRA)   \n",
       "1             1 April 1969 in Meulan, Yvelines (FRA)   \n",
       "2  13 August 1898 in Biarritz, Pyrénées-Atlantiqu...   \n",
       "\n",
       "                                                Died     NOC  athlete_id  \\\n",
       "0  2 October 1960 in Saint-Jean-de-Luz, Pyrénées-...  France           1   \n",
       "1                                                NaN  France           2   \n",
       "2  17 July 1994 in Arbonne, Pyrénées-Atlantiques ...  France           3   \n",
       "\n",
       "     Measurements                        Affiliations  \\\n",
       "0             NaN                                 NaN   \n",
       "1  183 cm / 76 kg  Racing Club de France, Paris (FRA)   \n",
       "2  183 cm / 76 kg                    TCP, Paris (FRA)   \n",
       "\n",
       "                                Nick/petnames Title(s) Other names  \\\n",
       "0                                         NaN      NaN         NaN   \n",
       "1                                         NaN      NaN         NaN   \n",
       "2  Le Basque Bondissant (The Bounding Basque)      NaN         NaN   \n",
       "\n",
       "  Nationality Original name Name order  \n",
       "0         NaN           NaN        NaN  \n",
       "1         NaN           NaN        NaN  \n",
       "2         NaN           NaN        NaN  "
      ]
     },
     "execution_count": 3,
     "metadata": {},
     "output_type": "execute_result"
    }
   ],
   "source": [
    "bios.head(3)"
   ]
  },
  {
   "cell_type": "code",
   "execution_count": 4,
   "id": "f102bfa2-8b85-4f93-b249-b248cdd54bf7",
   "metadata": {},
   "outputs": [
    {
     "data": {
      "text/html": [
       "<div>\n",
       "<style scoped>\n",
       "    .dataframe tbody tr th:only-of-type {\n",
       "        vertical-align: middle;\n",
       "    }\n",
       "\n",
       "    .dataframe tbody tr th {\n",
       "        vertical-align: top;\n",
       "    }\n",
       "\n",
       "    .dataframe thead th {\n",
       "        text-align: right;\n",
       "    }\n",
       "</style>\n",
       "<table border=\"1\" class=\"dataframe\">\n",
       "  <thead>\n",
       "    <tr style=\"text-align: right;\">\n",
       "      <th></th>\n",
       "      <th>NOC</th>\n",
       "      <th>region</th>\n",
       "      <th>notes</th>\n",
       "    </tr>\n",
       "  </thead>\n",
       "  <tbody>\n",
       "    <tr>\n",
       "      <th>0</th>\n",
       "      <td>AFG</td>\n",
       "      <td>Afghanistan</td>\n",
       "      <td>NaN</td>\n",
       "    </tr>\n",
       "    <tr>\n",
       "      <th>1</th>\n",
       "      <td>AHO</td>\n",
       "      <td>Curacao</td>\n",
       "      <td>Netherlands Antilles</td>\n",
       "    </tr>\n",
       "    <tr>\n",
       "      <th>2</th>\n",
       "      <td>ALB</td>\n",
       "      <td>Albania</td>\n",
       "      <td>NaN</td>\n",
       "    </tr>\n",
       "    <tr>\n",
       "      <th>3</th>\n",
       "      <td>ALG</td>\n",
       "      <td>Algeria</td>\n",
       "      <td>NaN</td>\n",
       "    </tr>\n",
       "    <tr>\n",
       "      <th>4</th>\n",
       "      <td>AND</td>\n",
       "      <td>Andorra</td>\n",
       "      <td>NaN</td>\n",
       "    </tr>\n",
       "  </tbody>\n",
       "</table>\n",
       "</div>"
      ],
      "text/plain": [
       "   NOC       region                 notes\n",
       "0  AFG  Afghanistan                   NaN\n",
       "1  AHO      Curacao  Netherlands Antilles\n",
       "2  ALB      Albania                   NaN\n",
       "3  ALG      Algeria                   NaN\n",
       "4  AND      Andorra                   NaN"
      ]
     },
     "execution_count": 4,
     "metadata": {},
     "output_type": "execute_result"
    }
   ],
   "source": [
    "countries.head()"
   ]
  },
  {
   "cell_type": "code",
   "execution_count": 5,
   "id": "41562869-6a35-4cd1-84ff-3438ee7b6f4e",
   "metadata": {},
   "outputs": [],
   "source": [
    "countries.drop('notes',axis=1,inplace=True)"
   ]
  },
  {
   "cell_type": "code",
   "execution_count": null,
   "id": "3943a31f-2906-4ba8-ae63-9e0e541d07d4",
   "metadata": {},
   "outputs": [],
   "source": []
  },
  {
   "cell_type": "code",
   "execution_count": 6,
   "id": "4a81ee62-f66f-49c5-9189-eaadafa28687",
   "metadata": {},
   "outputs": [
    {
     "data": {
      "text/html": [
       "<div>\n",
       "<style scoped>\n",
       "    .dataframe tbody tr th:only-of-type {\n",
       "        vertical-align: middle;\n",
       "    }\n",
       "\n",
       "    .dataframe tbody tr th {\n",
       "        vertical-align: top;\n",
       "    }\n",
       "\n",
       "    .dataframe thead th {\n",
       "        text-align: right;\n",
       "    }\n",
       "</style>\n",
       "<table border=\"1\" class=\"dataframe\">\n",
       "  <thead>\n",
       "    <tr style=\"text-align: right;\">\n",
       "      <th></th>\n",
       "      <th>Country Name</th>\n",
       "      <th>Country Code</th>\n",
       "      <th>1960</th>\n",
       "      <th>1961</th>\n",
       "      <th>1962</th>\n",
       "      <th>1963</th>\n",
       "      <th>1964</th>\n",
       "      <th>1965</th>\n",
       "      <th>1966</th>\n",
       "      <th>1967</th>\n",
       "      <th>...</th>\n",
       "      <th>2014</th>\n",
       "      <th>2015</th>\n",
       "      <th>2016</th>\n",
       "      <th>2017</th>\n",
       "      <th>2018</th>\n",
       "      <th>2019</th>\n",
       "      <th>2020</th>\n",
       "      <th>2021</th>\n",
       "      <th>2022</th>\n",
       "      <th>2023</th>\n",
       "    </tr>\n",
       "  </thead>\n",
       "  <tbody>\n",
       "    <tr>\n",
       "      <th>0</th>\n",
       "      <td>Aruba</td>\n",
       "      <td>ABW</td>\n",
       "      <td>54608.0</td>\n",
       "      <td>55811.0</td>\n",
       "      <td>56682.0</td>\n",
       "      <td>57475.0</td>\n",
       "      <td>58178.0</td>\n",
       "      <td>58782.0</td>\n",
       "      <td>59291.0</td>\n",
       "      <td>59522.0</td>\n",
       "      <td>...</td>\n",
       "      <td>103594.0</td>\n",
       "      <td>104257.0</td>\n",
       "      <td>104874.0</td>\n",
       "      <td>105439.0</td>\n",
       "      <td>105962.0</td>\n",
       "      <td>106442.0</td>\n",
       "      <td>106585.0</td>\n",
       "      <td>106537.0</td>\n",
       "      <td>106445.0</td>\n",
       "      <td>106277.0</td>\n",
       "    </tr>\n",
       "    <tr>\n",
       "      <th>1</th>\n",
       "      <td>Africa Eastern and Southern</td>\n",
       "      <td>AFE</td>\n",
       "      <td>130692579.0</td>\n",
       "      <td>134169237.0</td>\n",
       "      <td>137835590.0</td>\n",
       "      <td>141630546.0</td>\n",
       "      <td>145605995.0</td>\n",
       "      <td>149742351.0</td>\n",
       "      <td>153955516.0</td>\n",
       "      <td>158313235.0</td>\n",
       "      <td>...</td>\n",
       "      <td>583651101.0</td>\n",
       "      <td>600008424.0</td>\n",
       "      <td>616377605.0</td>\n",
       "      <td>632746570.0</td>\n",
       "      <td>649757148.0</td>\n",
       "      <td>667242986.0</td>\n",
       "      <td>685112979.0</td>\n",
       "      <td>702977106.0</td>\n",
       "      <td>720859132.0</td>\n",
       "      <td>739108306.0</td>\n",
       "    </tr>\n",
       "    <tr>\n",
       "      <th>2</th>\n",
       "      <td>Afghanistan</td>\n",
       "      <td>AFG</td>\n",
       "      <td>8622466.0</td>\n",
       "      <td>8790140.0</td>\n",
       "      <td>8969047.0</td>\n",
       "      <td>9157465.0</td>\n",
       "      <td>9355514.0</td>\n",
       "      <td>9565147.0</td>\n",
       "      <td>9783147.0</td>\n",
       "      <td>10010030.0</td>\n",
       "      <td>...</td>\n",
       "      <td>32716210.0</td>\n",
       "      <td>33753499.0</td>\n",
       "      <td>34636207.0</td>\n",
       "      <td>35643418.0</td>\n",
       "      <td>36686784.0</td>\n",
       "      <td>37769499.0</td>\n",
       "      <td>38972230.0</td>\n",
       "      <td>40099462.0</td>\n",
       "      <td>41128771.0</td>\n",
       "      <td>42239854.0</td>\n",
       "    </tr>\n",
       "    <tr>\n",
       "      <th>3</th>\n",
       "      <td>Africa Western and Central</td>\n",
       "      <td>AFW</td>\n",
       "      <td>97256290.0</td>\n",
       "      <td>99314028.0</td>\n",
       "      <td>101445032.0</td>\n",
       "      <td>103667517.0</td>\n",
       "      <td>105959979.0</td>\n",
       "      <td>108336203.0</td>\n",
       "      <td>110798486.0</td>\n",
       "      <td>113319950.0</td>\n",
       "      <td>...</td>\n",
       "      <td>397855507.0</td>\n",
       "      <td>408690375.0</td>\n",
       "      <td>419778384.0</td>\n",
       "      <td>431138704.0</td>\n",
       "      <td>442646825.0</td>\n",
       "      <td>454306063.0</td>\n",
       "      <td>466189102.0</td>\n",
       "      <td>478185907.0</td>\n",
       "      <td>490330870.0</td>\n",
       "      <td>502789511.0</td>\n",
       "    </tr>\n",
       "    <tr>\n",
       "      <th>4</th>\n",
       "      <td>Angola</td>\n",
       "      <td>AGO</td>\n",
       "      <td>5357195.0</td>\n",
       "      <td>5441333.0</td>\n",
       "      <td>5521400.0</td>\n",
       "      <td>5599827.0</td>\n",
       "      <td>5673199.0</td>\n",
       "      <td>5736582.0</td>\n",
       "      <td>5787044.0</td>\n",
       "      <td>5827503.0</td>\n",
       "      <td>...</td>\n",
       "      <td>27128337.0</td>\n",
       "      <td>28127721.0</td>\n",
       "      <td>29154746.0</td>\n",
       "      <td>30208628.0</td>\n",
       "      <td>31273533.0</td>\n",
       "      <td>32353588.0</td>\n",
       "      <td>33428486.0</td>\n",
       "      <td>34503774.0</td>\n",
       "      <td>35588987.0</td>\n",
       "      <td>36684202.0</td>\n",
       "    </tr>\n",
       "  </tbody>\n",
       "</table>\n",
       "<p>5 rows × 66 columns</p>\n",
       "</div>"
      ],
      "text/plain": [
       "                  Country Name Country Code         1960         1961  \\\n",
       "0                        Aruba          ABW      54608.0      55811.0   \n",
       "1  Africa Eastern and Southern          AFE  130692579.0  134169237.0   \n",
       "2                  Afghanistan          AFG    8622466.0    8790140.0   \n",
       "3   Africa Western and Central          AFW   97256290.0   99314028.0   \n",
       "4                       Angola          AGO    5357195.0    5441333.0   \n",
       "\n",
       "          1962         1963         1964         1965         1966  \\\n",
       "0      56682.0      57475.0      58178.0      58782.0      59291.0   \n",
       "1  137835590.0  141630546.0  145605995.0  149742351.0  153955516.0   \n",
       "2    8969047.0    9157465.0    9355514.0    9565147.0    9783147.0   \n",
       "3  101445032.0  103667517.0  105959979.0  108336203.0  110798486.0   \n",
       "4    5521400.0    5599827.0    5673199.0    5736582.0    5787044.0   \n",
       "\n",
       "          1967  ...         2014         2015         2016         2017  \\\n",
       "0      59522.0  ...     103594.0     104257.0     104874.0     105439.0   \n",
       "1  158313235.0  ...  583651101.0  600008424.0  616377605.0  632746570.0   \n",
       "2   10010030.0  ...   32716210.0   33753499.0   34636207.0   35643418.0   \n",
       "3  113319950.0  ...  397855507.0  408690375.0  419778384.0  431138704.0   \n",
       "4    5827503.0  ...   27128337.0   28127721.0   29154746.0   30208628.0   \n",
       "\n",
       "          2018         2019         2020         2021         2022  \\\n",
       "0     105962.0     106442.0     106585.0     106537.0     106445.0   \n",
       "1  649757148.0  667242986.0  685112979.0  702977106.0  720859132.0   \n",
       "2   36686784.0   37769499.0   38972230.0   40099462.0   41128771.0   \n",
       "3  442646825.0  454306063.0  466189102.0  478185907.0  490330870.0   \n",
       "4   31273533.0   32353588.0   33428486.0   34503774.0   35588987.0   \n",
       "\n",
       "          2023  \n",
       "0     106277.0  \n",
       "1  739108306.0  \n",
       "2   42239854.0  \n",
       "3  502789511.0  \n",
       "4   36684202.0  \n",
       "\n",
       "[5 rows x 66 columns]"
      ]
     },
     "execution_count": 6,
     "metadata": {},
     "output_type": "execute_result"
    }
   ],
   "source": [
    "population.head()"
   ]
  },
  {
   "cell_type": "code",
   "execution_count": 7,
   "id": "aed4997e-4925-4b83-97d9-44389f628694",
   "metadata": {},
   "outputs": [
    {
     "data": {
      "text/html": [
       "<div>\n",
       "<style scoped>\n",
       "    .dataframe tbody tr th:only-of-type {\n",
       "        vertical-align: middle;\n",
       "    }\n",
       "\n",
       "    .dataframe tbody tr th {\n",
       "        vertical-align: top;\n",
       "    }\n",
       "\n",
       "    .dataframe thead th {\n",
       "        text-align: right;\n",
       "    }\n",
       "</style>\n",
       "<table border=\"1\" class=\"dataframe\">\n",
       "  <thead>\n",
       "    <tr style=\"text-align: right;\">\n",
       "      <th></th>\n",
       "      <th>year</th>\n",
       "      <th>type</th>\n",
       "      <th>discipline</th>\n",
       "      <th>event</th>\n",
       "      <th>as</th>\n",
       "      <th>athlete_id</th>\n",
       "      <th>noc</th>\n",
       "      <th>team</th>\n",
       "      <th>place</th>\n",
       "      <th>tied</th>\n",
       "      <th>medal</th>\n",
       "    </tr>\n",
       "  </thead>\n",
       "  <tbody>\n",
       "    <tr>\n",
       "      <th>0</th>\n",
       "      <td>1912.0</td>\n",
       "      <td>Summer</td>\n",
       "      <td>Tennis</td>\n",
       "      <td>Singles, Men (Olympic)</td>\n",
       "      <td>Jean-François Blanchy</td>\n",
       "      <td>1</td>\n",
       "      <td>FRA</td>\n",
       "      <td>NaN</td>\n",
       "      <td>17.0</td>\n",
       "      <td>True</td>\n",
       "      <td>NaN</td>\n",
       "    </tr>\n",
       "    <tr>\n",
       "      <th>1</th>\n",
       "      <td>1912.0</td>\n",
       "      <td>Summer</td>\n",
       "      <td>Tennis</td>\n",
       "      <td>Doubles, Men (Olympic)</td>\n",
       "      <td>Jean-François Blanchy</td>\n",
       "      <td>1</td>\n",
       "      <td>FRA</td>\n",
       "      <td>Jean Montariol</td>\n",
       "      <td>NaN</td>\n",
       "      <td>False</td>\n",
       "      <td>NaN</td>\n",
       "    </tr>\n",
       "    <tr>\n",
       "      <th>2</th>\n",
       "      <td>1920.0</td>\n",
       "      <td>Summer</td>\n",
       "      <td>Tennis</td>\n",
       "      <td>Singles, Men (Olympic)</td>\n",
       "      <td>Jean-François Blanchy</td>\n",
       "      <td>1</td>\n",
       "      <td>FRA</td>\n",
       "      <td>NaN</td>\n",
       "      <td>32.0</td>\n",
       "      <td>True</td>\n",
       "      <td>NaN</td>\n",
       "    </tr>\n",
       "    <tr>\n",
       "      <th>3</th>\n",
       "      <td>1920.0</td>\n",
       "      <td>Summer</td>\n",
       "      <td>Tennis</td>\n",
       "      <td>Doubles, Mixed (Olympic)</td>\n",
       "      <td>Jean-François Blanchy</td>\n",
       "      <td>1</td>\n",
       "      <td>FRA</td>\n",
       "      <td>Jeanne Vaussard</td>\n",
       "      <td>8.0</td>\n",
       "      <td>True</td>\n",
       "      <td>NaN</td>\n",
       "    </tr>\n",
       "    <tr>\n",
       "      <th>4</th>\n",
       "      <td>1920.0</td>\n",
       "      <td>Summer</td>\n",
       "      <td>Tennis</td>\n",
       "      <td>Doubles, Men (Olympic)</td>\n",
       "      <td>Jean-François Blanchy</td>\n",
       "      <td>1</td>\n",
       "      <td>FRA</td>\n",
       "      <td>Jacques Brugnon</td>\n",
       "      <td>4.0</td>\n",
       "      <td>False</td>\n",
       "      <td>NaN</td>\n",
       "    </tr>\n",
       "  </tbody>\n",
       "</table>\n",
       "</div>"
      ],
      "text/plain": [
       "     year    type discipline                     event                     as  \\\n",
       "0  1912.0  Summer     Tennis    Singles, Men (Olympic)  Jean-François Blanchy   \n",
       "1  1912.0  Summer     Tennis    Doubles, Men (Olympic)  Jean-François Blanchy   \n",
       "2  1920.0  Summer     Tennis    Singles, Men (Olympic)  Jean-François Blanchy   \n",
       "3  1920.0  Summer     Tennis  Doubles, Mixed (Olympic)  Jean-François Blanchy   \n",
       "4  1920.0  Summer     Tennis    Doubles, Men (Olympic)  Jean-François Blanchy   \n",
       "\n",
       "   athlete_id  noc             team  place   tied medal  \n",
       "0           1  FRA              NaN   17.0   True   NaN  \n",
       "1           1  FRA   Jean Montariol    NaN  False   NaN  \n",
       "2           1  FRA              NaN   32.0   True   NaN  \n",
       "3           1  FRA  Jeanne Vaussard    8.0   True   NaN  \n",
       "4           1  FRA  Jacques Brugnon    4.0  False   NaN  "
      ]
     },
     "execution_count": 7,
     "metadata": {},
     "output_type": "execute_result"
    }
   ],
   "source": [
    "results.head()"
   ]
  },
  {
   "cell_type": "code",
   "execution_count": null,
   "id": "35c244b5-0563-4ffa-9790-a5d9daf40f78",
   "metadata": {},
   "outputs": [],
   "source": []
  },
  {
   "cell_type": "code",
   "execution_count": 8,
   "id": "71233b59-2e9b-4399-b378-bfa8201c922d",
   "metadata": {},
   "outputs": [],
   "source": [
    "bios[['Height_cm', 'Weight_kg']] = bios['Measurements'].str.extract(r'(\\d+)\\s*cm\\s*/\\s*(\\d+)\\s*kg')\n",
    "\n",
    "bios['Height_cm'] = bios['Height_cm'].astype(float)\n",
    "bios['Weight_kg'] = bios['Weight_kg'].astype(float)"
   ]
  },
  {
   "cell_type": "code",
   "execution_count": null,
   "id": "19b91ab0-a3e7-4f63-88d3-f384b95e1c36",
   "metadata": {},
   "outputs": [],
   "source": []
  },
  {
   "cell_type": "code",
   "execution_count": 9,
   "id": "42e425fd-6a5c-47ad-bd62-84ae72341c8b",
   "metadata": {},
   "outputs": [],
   "source": [
    "bios[['Date_of_Birth', 'Place_of_Birth']] = bios['Born'].str.extract(r'^\\s*(.+?)\\s+in\\s+(.+)$')\n",
    "bios['Date_of_Birth'] = pd.to_datetime(bios['Date_of_Birth'], errors='coerce')"
   ]
  },
  {
   "cell_type": "code",
   "execution_count": null,
   "id": "61a8f95f-aa67-47de-84d6-35ed62ab6bf3",
   "metadata": {},
   "outputs": [],
   "source": []
  },
  {
   "cell_type": "code",
   "execution_count": 10,
   "id": "9ce71ae7-3c84-4da8-9965-bf0782d379a5",
   "metadata": {},
   "outputs": [],
   "source": [
    "bios[['Date_of_dearth', 'Place_of_dearth']] = bios['Died'].str.extract(r'^\\s*(.+?)\\s+in\\s+(.+)$')\n",
    "bios['Date_of_dearth'] = pd.to_datetime(bios['Date_of_dearth'], errors='coerce')"
   ]
  },
  {
   "cell_type": "code",
   "execution_count": 11,
   "id": "34f0f9e5-1ae8-4ca4-a963-2955c4936de1",
   "metadata": {},
   "outputs": [],
   "source": [
    "bios['Country_Code'] = bios['Place_of_Birth'].str.extract(r'\\(([^)]+)\\)')"
   ]
  },
  {
   "cell_type": "code",
   "execution_count": 12,
   "id": "0967fead-1af0-4752-a0a0-f898f77a4f21",
   "metadata": {},
   "outputs": [],
   "source": [
    "bios.rename(columns={ \"NOC\":\"Country\" , \"Used name\":\"Name\" },inplace=True)"
   ]
  },
  {
   "cell_type": "code",
   "execution_count": null,
   "id": "8ae72a30-b948-49a1-9449-55c0c590fa4e",
   "metadata": {},
   "outputs": [],
   "source": []
  },
  {
   "cell_type": "code",
   "execution_count": 13,
   "id": "f9d5cfff-f1d1-4a4b-a209-7000214bf18f",
   "metadata": {},
   "outputs": [],
   "source": [
    "remove_cols = [ 'Born' ,'Died', 'Measurements',\"Full name\",\"Other names\",\"Title(s)\",\"Original name\",\"Name order\",\"Nick/petnames\",\"Affiliations\",\"Nationality\" ]\n",
    "\n",
    "bios.drop(columns=remove_cols ,axis=1,inplace=True)"
   ]
  },
  {
   "cell_type": "code",
   "execution_count": 14,
   "id": "eaa7c32f-065a-4d2e-8725-6e895bb49d08",
   "metadata": {},
   "outputs": [
    {
     "data": {
      "text/html": [
       "<div>\n",
       "<style scoped>\n",
       "    .dataframe tbody tr th:only-of-type {\n",
       "        vertical-align: middle;\n",
       "    }\n",
       "\n",
       "    .dataframe tbody tr th {\n",
       "        vertical-align: top;\n",
       "    }\n",
       "\n",
       "    .dataframe thead th {\n",
       "        text-align: right;\n",
       "    }\n",
       "</style>\n",
       "<table border=\"1\" class=\"dataframe\">\n",
       "  <thead>\n",
       "    <tr style=\"text-align: right;\">\n",
       "      <th></th>\n",
       "      <th>Roles</th>\n",
       "      <th>Sex</th>\n",
       "      <th>Name</th>\n",
       "      <th>Country</th>\n",
       "      <th>athlete_id</th>\n",
       "      <th>Height_cm</th>\n",
       "      <th>Weight_kg</th>\n",
       "      <th>Date_of_Birth</th>\n",
       "      <th>Place_of_Birth</th>\n",
       "      <th>Date_of_dearth</th>\n",
       "      <th>Place_of_dearth</th>\n",
       "      <th>Country_Code</th>\n",
       "    </tr>\n",
       "  </thead>\n",
       "  <tbody>\n",
       "    <tr>\n",
       "      <th>0</th>\n",
       "      <td>Competed in Olympic Games</td>\n",
       "      <td>Male</td>\n",
       "      <td>Jean-François•Blanchy</td>\n",
       "      <td>France</td>\n",
       "      <td>1</td>\n",
       "      <td>NaN</td>\n",
       "      <td>NaN</td>\n",
       "      <td>1886-12-12</td>\n",
       "      <td>Bordeaux, Gironde (FRA)</td>\n",
       "      <td>1960-10-02</td>\n",
       "      <td>Saint-Jean-de-Luz, Pyrénées-Atlantiques (FRA)</td>\n",
       "      <td>FRA</td>\n",
       "    </tr>\n",
       "    <tr>\n",
       "      <th>1</th>\n",
       "      <td>Competed in Olympic Games</td>\n",
       "      <td>Male</td>\n",
       "      <td>Arnaud•Boetsch</td>\n",
       "      <td>France</td>\n",
       "      <td>2</td>\n",
       "      <td>183.0</td>\n",
       "      <td>76.0</td>\n",
       "      <td>1969-04-01</td>\n",
       "      <td>Meulan, Yvelines (FRA)</td>\n",
       "      <td>NaT</td>\n",
       "      <td>NaN</td>\n",
       "      <td>FRA</td>\n",
       "    </tr>\n",
       "    <tr>\n",
       "      <th>2</th>\n",
       "      <td>Competed in Olympic Games • Administrator</td>\n",
       "      <td>Male</td>\n",
       "      <td>Jean•Borotra</td>\n",
       "      <td>France</td>\n",
       "      <td>3</td>\n",
       "      <td>183.0</td>\n",
       "      <td>76.0</td>\n",
       "      <td>1898-08-13</td>\n",
       "      <td>Biarritz, Pyrénées-Atlantiques (FRA)</td>\n",
       "      <td>1994-07-17</td>\n",
       "      <td>Arbonne, Pyrénées-Atlantiques (FRA)</td>\n",
       "      <td>FRA</td>\n",
       "    </tr>\n",
       "  </tbody>\n",
       "</table>\n",
       "</div>"
      ],
      "text/plain": [
       "                                       Roles   Sex                   Name  \\\n",
       "0                  Competed in Olympic Games  Male  Jean-François•Blanchy   \n",
       "1                  Competed in Olympic Games  Male         Arnaud•Boetsch   \n",
       "2  Competed in Olympic Games • Administrator  Male           Jean•Borotra   \n",
       "\n",
       "  Country  athlete_id  Height_cm  Weight_kg Date_of_Birth  \\\n",
       "0  France           1        NaN        NaN    1886-12-12   \n",
       "1  France           2      183.0       76.0    1969-04-01   \n",
       "2  France           3      183.0       76.0    1898-08-13   \n",
       "\n",
       "                         Place_of_Birth Date_of_dearth  \\\n",
       "0               Bordeaux, Gironde (FRA)     1960-10-02   \n",
       "1                Meulan, Yvelines (FRA)            NaT   \n",
       "2  Biarritz, Pyrénées-Atlantiques (FRA)     1994-07-17   \n",
       "\n",
       "                                 Place_of_dearth Country_Code  \n",
       "0  Saint-Jean-de-Luz, Pyrénées-Atlantiques (FRA)          FRA  \n",
       "1                                            NaN          FRA  \n",
       "2            Arbonne, Pyrénées-Atlantiques (FRA)          FRA  "
      ]
     },
     "execution_count": 14,
     "metadata": {},
     "output_type": "execute_result"
    }
   ],
   "source": [
    "bios.head(3)"
   ]
  },
  {
   "cell_type": "code",
   "execution_count": 15,
   "id": "ced8f4f4-f560-4a25-9788-7215a0bef217",
   "metadata": {},
   "outputs": [
    {
     "name": "stdout",
     "output_type": "stream",
     "text": [
      "<class 'pandas.core.frame.DataFrame'>\n",
      "RangeIndex: 145500 entries, 0 to 145499\n",
      "Data columns (total 12 columns):\n",
      " #   Column           Non-Null Count   Dtype         \n",
      "---  ------           --------------   -----         \n",
      " 0   Roles            145500 non-null  object        \n",
      " 1   Sex              145500 non-null  object        \n",
      " 2   Name             145500 non-null  object        \n",
      " 3   Country          145499 non-null  object        \n",
      " 4   athlete_id       145500 non-null  int64         \n",
      " 5   Height_cm        102070 non-null  float64       \n",
      " 6   Weight_kg        102070 non-null  float64       \n",
      " 7   Date_of_Birth    120026 non-null  datetime64[ns]\n",
      " 8   Place_of_Birth   120855 non-null  object        \n",
      " 9   Date_of_dearth   28052 non-null   datetime64[ns]\n",
      " 10  Place_of_dearth  28840 non-null   object        \n",
      " 11  Country_Code     120855 non-null  object        \n",
      "dtypes: datetime64[ns](2), float64(2), int64(1), object(7)\n",
      "memory usage: 13.3+ MB\n"
     ]
    }
   ],
   "source": [
    "bios.info()"
   ]
  },
  {
   "cell_type": "code",
   "execution_count": null,
   "id": "ab1a6e59-4da8-4aa5-a340-ce9e54020d4b",
   "metadata": {},
   "outputs": [],
   "source": []
  },
  {
   "cell_type": "code",
   "execution_count": 16,
   "id": "dc4124aa-1b57-4188-875d-237d5611f4da",
   "metadata": {},
   "outputs": [
    {
     "data": {
      "text/html": [
       "<div>\n",
       "<style scoped>\n",
       "    .dataframe tbody tr th:only-of-type {\n",
       "        vertical-align: middle;\n",
       "    }\n",
       "\n",
       "    .dataframe tbody tr th {\n",
       "        vertical-align: top;\n",
       "    }\n",
       "\n",
       "    .dataframe thead th {\n",
       "        text-align: right;\n",
       "    }\n",
       "</style>\n",
       "<table border=\"1\" class=\"dataframe\">\n",
       "  <thead>\n",
       "    <tr style=\"text-align: right;\">\n",
       "      <th></th>\n",
       "      <th>year</th>\n",
       "      <th>type</th>\n",
       "      <th>discipline</th>\n",
       "      <th>event</th>\n",
       "      <th>as</th>\n",
       "      <th>athlete_id</th>\n",
       "      <th>noc</th>\n",
       "      <th>team</th>\n",
       "      <th>place</th>\n",
       "      <th>tied</th>\n",
       "      <th>medal</th>\n",
       "    </tr>\n",
       "  </thead>\n",
       "  <tbody>\n",
       "    <tr>\n",
       "      <th>0</th>\n",
       "      <td>1912.0</td>\n",
       "      <td>Summer</td>\n",
       "      <td>Tennis</td>\n",
       "      <td>Singles, Men (Olympic)</td>\n",
       "      <td>Jean-François Blanchy</td>\n",
       "      <td>1</td>\n",
       "      <td>FRA</td>\n",
       "      <td>NaN</td>\n",
       "      <td>17.0</td>\n",
       "      <td>True</td>\n",
       "      <td>NaN</td>\n",
       "    </tr>\n",
       "    <tr>\n",
       "      <th>1</th>\n",
       "      <td>1912.0</td>\n",
       "      <td>Summer</td>\n",
       "      <td>Tennis</td>\n",
       "      <td>Doubles, Men (Olympic)</td>\n",
       "      <td>Jean-François Blanchy</td>\n",
       "      <td>1</td>\n",
       "      <td>FRA</td>\n",
       "      <td>Jean Montariol</td>\n",
       "      <td>NaN</td>\n",
       "      <td>False</td>\n",
       "      <td>NaN</td>\n",
       "    </tr>\n",
       "    <tr>\n",
       "      <th>2</th>\n",
       "      <td>1920.0</td>\n",
       "      <td>Summer</td>\n",
       "      <td>Tennis</td>\n",
       "      <td>Singles, Men (Olympic)</td>\n",
       "      <td>Jean-François Blanchy</td>\n",
       "      <td>1</td>\n",
       "      <td>FRA</td>\n",
       "      <td>NaN</td>\n",
       "      <td>32.0</td>\n",
       "      <td>True</td>\n",
       "      <td>NaN</td>\n",
       "    </tr>\n",
       "    <tr>\n",
       "      <th>3</th>\n",
       "      <td>1920.0</td>\n",
       "      <td>Summer</td>\n",
       "      <td>Tennis</td>\n",
       "      <td>Doubles, Mixed (Olympic)</td>\n",
       "      <td>Jean-François Blanchy</td>\n",
       "      <td>1</td>\n",
       "      <td>FRA</td>\n",
       "      <td>Jeanne Vaussard</td>\n",
       "      <td>8.0</td>\n",
       "      <td>True</td>\n",
       "      <td>NaN</td>\n",
       "    </tr>\n",
       "    <tr>\n",
       "      <th>4</th>\n",
       "      <td>1920.0</td>\n",
       "      <td>Summer</td>\n",
       "      <td>Tennis</td>\n",
       "      <td>Doubles, Men (Olympic)</td>\n",
       "      <td>Jean-François Blanchy</td>\n",
       "      <td>1</td>\n",
       "      <td>FRA</td>\n",
       "      <td>Jacques Brugnon</td>\n",
       "      <td>4.0</td>\n",
       "      <td>False</td>\n",
       "      <td>NaN</td>\n",
       "    </tr>\n",
       "  </tbody>\n",
       "</table>\n",
       "</div>"
      ],
      "text/plain": [
       "     year    type discipline                     event                     as  \\\n",
       "0  1912.0  Summer     Tennis    Singles, Men (Olympic)  Jean-François Blanchy   \n",
       "1  1912.0  Summer     Tennis    Doubles, Men (Olympic)  Jean-François Blanchy   \n",
       "2  1920.0  Summer     Tennis    Singles, Men (Olympic)  Jean-François Blanchy   \n",
       "3  1920.0  Summer     Tennis  Doubles, Mixed (Olympic)  Jean-François Blanchy   \n",
       "4  1920.0  Summer     Tennis    Doubles, Men (Olympic)  Jean-François Blanchy   \n",
       "\n",
       "   athlete_id  noc             team  place   tied medal  \n",
       "0           1  FRA              NaN   17.0   True   NaN  \n",
       "1           1  FRA   Jean Montariol    NaN  False   NaN  \n",
       "2           1  FRA              NaN   32.0   True   NaN  \n",
       "3           1  FRA  Jeanne Vaussard    8.0   True   NaN  \n",
       "4           1  FRA  Jacques Brugnon    4.0  False   NaN  "
      ]
     },
     "execution_count": 16,
     "metadata": {},
     "output_type": "execute_result"
    }
   ],
   "source": [
    "results.head()"
   ]
  },
  {
   "cell_type": "code",
   "execution_count": null,
   "id": "104c496d-1f84-433c-bda3-38d52b145608",
   "metadata": {},
   "outputs": [],
   "source": []
  },
  {
   "cell_type": "code",
   "execution_count": 17,
   "id": "64db25ce-522c-4827-9171-b3c490e2faee",
   "metadata": {},
   "outputs": [
    {
     "data": {
      "text/html": [
       "<div>\n",
       "<style scoped>\n",
       "    .dataframe tbody tr th:only-of-type {\n",
       "        vertical-align: middle;\n",
       "    }\n",
       "\n",
       "    .dataframe tbody tr th {\n",
       "        vertical-align: top;\n",
       "    }\n",
       "\n",
       "    .dataframe thead th {\n",
       "        text-align: right;\n",
       "    }\n",
       "</style>\n",
       "<table border=\"1\" class=\"dataframe\">\n",
       "  <thead>\n",
       "    <tr style=\"text-align: right;\">\n",
       "      <th></th>\n",
       "      <th>year</th>\n",
       "      <th>type</th>\n",
       "      <th>discipline</th>\n",
       "      <th>event</th>\n",
       "      <th>as</th>\n",
       "      <th>athlete_id</th>\n",
       "      <th>noc</th>\n",
       "      <th>team</th>\n",
       "      <th>place</th>\n",
       "      <th>tied</th>\n",
       "      <th>medal</th>\n",
       "    </tr>\n",
       "  </thead>\n",
       "  <tbody>\n",
       "    <tr>\n",
       "      <th>9</th>\n",
       "      <td>1924.0</td>\n",
       "      <td>Summer</td>\n",
       "      <td>Tennis</td>\n",
       "      <td>Doubles, Men (Olympic)</td>\n",
       "      <td>Jean Borotra</td>\n",
       "      <td>3</td>\n",
       "      <td>FRA</td>\n",
       "      <td>René Lacoste</td>\n",
       "      <td>3.0</td>\n",
       "      <td>False</td>\n",
       "      <td>Bronze</td>\n",
       "    </tr>\n",
       "    <tr>\n",
       "      <th>12</th>\n",
       "      <td>1924.0</td>\n",
       "      <td>Summer</td>\n",
       "      <td>Tennis</td>\n",
       "      <td>Doubles, Men (Olympic)</td>\n",
       "      <td>Jacques Brugnon</td>\n",
       "      <td>4</td>\n",
       "      <td>FRA</td>\n",
       "      <td>Henri Cochet</td>\n",
       "      <td>2.0</td>\n",
       "      <td>False</td>\n",
       "      <td>Silver</td>\n",
       "    </tr>\n",
       "    <tr>\n",
       "      <th>14</th>\n",
       "      <td>1912.0</td>\n",
       "      <td>Summer</td>\n",
       "      <td>Tennis</td>\n",
       "      <td>Doubles, Mixed (Olympic)</td>\n",
       "      <td>Albert Canet</td>\n",
       "      <td>5</td>\n",
       "      <td>FRA</td>\n",
       "      <td>Marguerite Broquedis</td>\n",
       "      <td>3.0</td>\n",
       "      <td>False</td>\n",
       "      <td>Bronze</td>\n",
       "    </tr>\n",
       "    <tr>\n",
       "      <th>15</th>\n",
       "      <td>1912.0</td>\n",
       "      <td>Summer</td>\n",
       "      <td>Tennis</td>\n",
       "      <td>Doubles, Men (Olympic)</td>\n",
       "      <td>Albert Canet</td>\n",
       "      <td>5</td>\n",
       "      <td>FRA</td>\n",
       "      <td>Édouard Mény de Marangue</td>\n",
       "      <td>3.0</td>\n",
       "      <td>False</td>\n",
       "      <td>Bronze</td>\n",
       "    </tr>\n",
       "    <tr>\n",
       "      <th>21</th>\n",
       "      <td>2000.0</td>\n",
       "      <td>Summer</td>\n",
       "      <td>Table Tennis</td>\n",
       "      <td>Doubles, Men (Olympic)</td>\n",
       "      <td>Patrick Chila</td>\n",
       "      <td>7</td>\n",
       "      <td>FRA</td>\n",
       "      <td>Jean-Philippe Gatien</td>\n",
       "      <td>3.0</td>\n",
       "      <td>False</td>\n",
       "      <td>Bronze</td>\n",
       "    </tr>\n",
       "  </tbody>\n",
       "</table>\n",
       "</div>"
      ],
      "text/plain": [
       "      year    type    discipline                     event               as  \\\n",
       "9   1924.0  Summer        Tennis    Doubles, Men (Olympic)     Jean Borotra   \n",
       "12  1924.0  Summer        Tennis    Doubles, Men (Olympic)  Jacques Brugnon   \n",
       "14  1912.0  Summer        Tennis  Doubles, Mixed (Olympic)     Albert Canet   \n",
       "15  1912.0  Summer        Tennis    Doubles, Men (Olympic)     Albert Canet   \n",
       "21  2000.0  Summer  Table Tennis    Doubles, Men (Olympic)    Patrick Chila   \n",
       "\n",
       "    athlete_id  noc                      team  place   tied   medal  \n",
       "9            3  FRA              René Lacoste    3.0  False  Bronze  \n",
       "12           4  FRA              Henri Cochet    2.0  False  Silver  \n",
       "14           5  FRA      Marguerite Broquedis    3.0  False  Bronze  \n",
       "15           5  FRA  Édouard Mény de Marangue    3.0  False  Bronze  \n",
       "21           7  FRA      Jean-Philippe Gatien    3.0  False  Bronze  "
      ]
     },
     "execution_count": 17,
     "metadata": {},
     "output_type": "execute_result"
    }
   ],
   "source": [
    "medals = results[ results['medal'].notna() ]\n",
    "medals.head()"
   ]
  },
  {
   "cell_type": "code",
   "execution_count": null,
   "id": "b6d6ac89-1a46-43cd-a108-873028c20e9f",
   "metadata": {},
   "outputs": [],
   "source": []
  },
  {
   "cell_type": "code",
   "execution_count": 18,
   "id": "498a4071-b2bf-40f7-be70-2188bfab99d8",
   "metadata": {},
   "outputs": [],
   "source": [
    "def plotBarGraph( X,Y,XLabel,YLabel,label,title,color='blue' ):\n",
    "    plt.figure(figsize=(20,5))\n",
    "    plt.bar( x=X,height=Y,color=color,label=label )\n",
    "    plt.title(title)\n",
    "    plt.xlabel(XLabel)\n",
    "    plt.ylabel(YLabel)\n",
    "    # plt.xticks(degree=45)\n",
    "    plt.legend()\n",
    "    plt.show()"
   ]
  },
  {
   "cell_type": "code",
   "execution_count": null,
   "id": "f87f34ef-48d2-4d9d-afae-34361aca1468",
   "metadata": {},
   "outputs": [],
   "source": []
  },
  {
   "cell_type": "code",
   "execution_count": null,
   "id": "45eebc77-a572-40a4-a81c-eb7804064ce9",
   "metadata": {},
   "outputs": [],
   "source": []
  },
  {
   "cell_type": "markdown",
   "id": "263c6b08-0c8c-4538-ada6-5239b72de03d",
   "metadata": {},
   "source": [
    "# Top 20 countries having the highest No.of medals"
   ]
  },
  {
   "cell_type": "code",
   "execution_count": 19,
   "id": "5e21c087-59f2-431b-8fc4-65882e03f5fe",
   "metadata": {},
   "outputs": [],
   "source": [
    "medal_count = medals['noc'].value_counts().head(20)"
   ]
  },
  {
   "cell_type": "code",
   "execution_count": 20,
   "id": "73773cf9-9ce5-4995-aba9-20e2754bd266",
   "metadata": {},
   "outputs": [
    {
     "data": {
      "image/png": "[encoded data removed]",
      "text/plain": [
       "<Figure size 2000x500 with 1 Axes>"
      ]
     },
     "metadata": {},
     "output_type": "display_data"
    }
   ],
   "source": [
    "plotBarGraph( medal_count.index , medal_count.values ,\n",
    "             XLabel=\"Country\", YLabel=\"Medal Count\",\n",
    "             label='Country',\n",
    "             title=\"Top 20 countries having the highest No.of medals\",\n",
    "             color=\"green\" )"
   ]
  },
  {
   "cell_type": "code",
   "execution_count": null,
   "id": "12f8ef4e-de0f-4b12-be83-949c2c68de46",
   "metadata": {},
   "outputs": [],
   "source": []
  },
  {
   "cell_type": "markdown",
   "id": "b9592e73-a3ce-4a06-a95f-0660a9af1297",
   "metadata": {},
   "source": [
    "# Specific Country medals"
   ]
  },
  {
   "cell_type": "code",
   "execution_count": 21,
   "id": "3edb761a-eed9-4280-a57f-32f961930cb7",
   "metadata": {
    "scrolled": true
   },
   "outputs": [
    {
     "data": {
      "text/plain": [
       "array(['FRA', 'GBR', 'FRG', 'GER', 'GHA', 'GRE', 'GUA', 'HAI', 'HKG',\n",
       "       'HUN', 'TKM', 'INA', 'AUT', 'NED', 'IND', 'ARG', 'AUS', 'BEL',\n",
       "       'BHU', 'BLR', 'BRA', 'BUL', 'CAN', 'CHN', 'COL', 'CRC', 'CYP',\n",
       "       'DEN', 'ESP', 'EST', 'FIN', 'EUN', 'GEO', 'USA', 'GUM', 'ARM',\n",
       "       'BAH', 'BER', 'BIH', 'URS', 'BOH', 'TCH', 'CHI', 'TPE', 'IRI',\n",
       "       'IRL', 'IRQ', 'ISL', 'ISR', 'ITA', 'JAM', 'JOR', 'JPN', 'KOR',\n",
       "       'KSA', 'KUW', 'LAT', 'LBA', 'LBN', 'LTU', 'LUX', 'MAD', 'MAR',\n",
       "       'MAS', 'MRI', 'MEX', 'NGR', 'NOR', 'NZL', 'PAK', 'PAR', 'PER',\n",
       "       'PHI', 'POL', 'BUR', 'CAF', 'CAM', 'CGO', 'EGY', 'CHA', 'CIV',\n",
       "       'CMR', 'COK', 'PUR', 'CUB', 'DOM', 'CRO', 'CZE', 'BEN', 'ECU',\n",
       "       'UAR', 'ESA', 'KAZ', 'KEN', 'MDA', 'MGL', 'MLT', 'MON', 'POR',\n",
       "       'PRK', 'ROU', 'RSA', 'RUS', 'SLO', 'SMR', 'SOL', 'SUI', 'SWE',\n",
       "       'THA', 'TUR', 'UKR', 'YUG', 'ZIM', 'ALG', 'QAT', 'SGP', 'SRI',\n",
       "       'SUD', 'SUR', 'SVK', 'TTO', 'TUN', 'UGA', 'URU', 'UZB', 'VEN',\n",
       "       'IOA', 'SCG', 'SRB', 'ETH', 'FIJ', 'GAB', 'NCA', 'AND', 'ANG',\n",
       "       'ANT', 'GUY', 'GDR', 'GRN', 'GUI', 'HON', 'ISV', 'KGZ', 'LAO',\n",
       "       'LBR', 'LES', 'MAW', 'MLI', 'MOZ', 'MYA', 'NAM', 'NEP', 'NIG',\n",
       "       'ZAM', 'OMA', 'PAN', 'ARU', 'ASA', 'COD', 'SEN', 'AFG', 'BAR',\n",
       "       'BIZ', 'BOL', 'BOT', 'PNG', 'RHO', 'SAM', 'SAA', 'SEY', 'SLE',\n",
       "       'SWZ', 'SYR', 'TAN', 'TGA', 'TJK', 'TOG', 'VAN', 'VIE', 'VNM',\n",
       "       'YMD', 'MKD', 'ANZ', 'LIE', 'AHO', 'CAY', 'UAE', 'BRN', 'RWA',\n",
       "       'ALB', 'WIF', 'MAL', 'AZE', 'YEM', 'DJI', 'YAR', 'BAN', 'BRU',\n",
       "       'DMA', 'MDV', 'MNE', 'NRU', 'GAM', 'GBS', 'MTN', 'IVB', 'LCA',\n",
       "       'BDI', 'COM', 'CPV', 'GEQ', 'NBO', 'PLE', 'SKN', 'SOM', 'STP',\n",
       "       'VIN', 'CRT', 'ERI', 'TLS', 'FSM', 'PLW', 'ROC', 'KIR', 'MHL',\n",
       "       'TUV', 'KOS', 'EOR', 'SSD', 'COR', nan], dtype=object)"
      ]
     },
     "execution_count": 21,
     "metadata": {},
     "output_type": "execute_result"
    }
   ],
   "source": [
    "results.noc.unique()"
   ]
  },
  {
   "cell_type": "code",
   "execution_count": 22,
   "id": "454f6cc5-0d68-492e-9f88-502a7842da00",
   "metadata": {},
   "outputs": [],
   "source": [
    "country_code = 'JPN'\n",
    "types_of_medals = medals[ medals['noc'] == country_code ]['medal'].value_counts()\n",
    "\n",
    "country_name = countries[ countries['NOC'] == country_code ]['region'].values[0]"
   ]
  },
  {
   "cell_type": "code",
   "execution_count": 51,
   "id": "ca614eed-fec5-4fd4-89d7-530539e07b5f",
   "metadata": {},
   "outputs": [
    {
     "data": {
      "image/png": "[encoded data removed]",
      "text/plain": [
       "<Figure size 2000x500 with 1 Axes>"
      ]
     },
     "metadata": {},
     "output_type": "display_data"
    }
   ],
   "source": [
    "plotBarGraph( X=types_of_medals.index , Y=types_of_medals.values , \n",
    "             XLabel='Types of Medals',YLabel='Medal Count',\n",
    "             title=f'Total Medals received by the {country_name} till now' , \n",
    "             label=country_code , color='orange' )"
   ]
  },
  {
   "cell_type": "code",
   "execution_count": null,
   "id": "5afed5d8-aafe-40dd-b3d2-a1f37101ce46",
   "metadata": {},
   "outputs": [],
   "source": []
  },
  {
   "cell_type": "code",
   "execution_count": 55,
   "id": "c77da248-82ff-4d67-a730-f37eea8b5b8f",
   "metadata": {
    "scrolled": true
   },
   "outputs": [
    {
     "data": {
      "text/plain": [
       "array(['Tennis', 'Table Tennis', 'Badminton', 'Athletics',\n",
       "       'Art Competitions', 'Archery', 'Boxing',\n",
       "       'Softball (Baseball/Softball)', 'Baseball (Baseball/Softball)',\n",
       "       'Golf', 'Basketball (Basketball)', 'Bobsleigh (Bobsleigh)',\n",
       "       'Canoe Slalom (Canoeing)', 'Canoe Sprint (Canoeing)',\n",
       "       'Canoe Marathon (Canoeing)', 'Cycling Road (Cycling)', 'Polo',\n",
       "       'Rugby (Rugby)', 'Equestrian Dressage (Equestrian)',\n",
       "       'Equestrian Jumping (Equestrian)', 'Tug-Of-War', 'Lacrosse',\n",
       "       'Equestrian Eventing (Equestrian)',\n",
       "       'Equestrian Vaulting (Equestrian)', 'Fencing',\n",
       "       'Equestrian Driving (Equestrian)', 'Cycling Track (Cycling)',\n",
       "       'Cycling Mountain Bike (Cycling)', 'Speed Skating (Skating)',\n",
       "       'Rowing', 'Hockey', 'Cricket', 'Croquet', 'Motorboating',\n",
       "       'Jeu De Paume', 'Racquets', 'Swimming (Aquatics)',\n",
       "       'Modern Pentathlon', 'Shooting', 'Football (Football)',\n",
       "       'Diving (Aquatics)', 'Artistic Gymnastics (Gymnastics)',\n",
       "       'Rhythmic Gymnastics (Gymnastics)', 'Handball', 'Judo',\n",
       "       'Military Ski Patrol (Skiing)', 'Sailing', 'Water Polo (Aquatics)',\n",
       "       'Artistic Swimming (Aquatics)', 'Beach Volleyball (Volleyball)',\n",
       "       'Volleyball (Volleyball)', 'Weightlifting', 'Wrestling',\n",
       "       'Figure Skating (Skating)', 'Cross Country Skiing (Skiing)',\n",
       "       'Basque pelota', 'Short Track Speed Skating (Skating)', 'Biathlon',\n",
       "       'Alpine Skiing (Skiing)', 'Luge', 'Freestyle Skiing (Skiing)',\n",
       "       'Nordic Combined (Skiing)', 'Ice Hockey (Ice Hockey)',\n",
       "       'Ski Jumping (Skiing)', 'Skeleton (Bobsleigh)',\n",
       "       'Trampolining (Gymnastics)', 'Marathon Swimming (Aquatics)',\n",
       "       'Taekwondo', 'Triathlon', 'Snowboarding (Skiing)', 'Curling',\n",
       "       'Roque', 'Cycling BMX Racing (Cycling)', 'Rugby Sevens (Rugby)',\n",
       "       'Hockey 5s', 'Mixed Sports', '3-on-3 Ice Hockey (Ice Hockey)',\n",
       "       'Ski Mountaineering', 'Cycling BMX Freestyle (Cycling)',\n",
       "       'Skateboarding (Roller Sports)', 'Surfing', 'Karate',\n",
       "       'Sport Climbing', '3x3 Basketball (Basketball)',\n",
       "       'Roller Skating (Roller Sports)'], dtype=object)"
      ]
     },
     "execution_count": 55,
     "metadata": {},
     "output_type": "execute_result"
    }
   ],
   "source": [
    "medals['discipline'].unique()"
   ]
  },
  {
   "cell_type": "markdown",
   "id": "65fdae86-b322-430c-9bd2-bb3d8079ff92",
   "metadata": {},
   "source": [
    "# coutries having the highest medals in the particular sport"
   ]
  },
  {
   "cell_type": "code",
   "execution_count": 25,
   "id": "6a1a1275-8328-4a79-9676-e7e0d6af5e11",
   "metadata": {
    "scrolled": true
   },
   "outputs": [],
   "source": [
    "sport_name = 'Boxing'\n",
    "\n",
    "sport_country_medals = medals[ medals['discipline'] == sport_name ]['noc'].value_counts().head(20)"
   ]
  },
  {
   "cell_type": "code",
   "execution_count": 26,
   "id": "700a2dde-a263-4a6a-a093-d6e548899d39",
   "metadata": {},
   "outputs": [
    {
     "data": {
      "image/png": "[encoded data removed]",
      "text/plain": [
       "<Figure size 2000x500 with 1 Axes>"
      ]
     },
     "metadata": {},
     "output_type": "display_data"
    }
   ],
   "source": [
    "plotBarGraph( X=sport_country_medals.index , Y=sport_country_medals.values , \n",
    "             XLabel=\"Country\",YLabel=\"Count\",\n",
    "             label='country',\n",
    "             title=f'Top {sport_country_medals.shape[0]} countries having highest medals in {sport_name}', \n",
    "             color='green' )"
   ]
  },
  {
   "cell_type": "code",
   "execution_count": null,
   "id": "61696fc5-f267-4a64-9754-bc7700ecc24f",
   "metadata": {},
   "outputs": [],
   "source": []
  },
  {
   "cell_type": "code",
   "execution_count": 27,
   "id": "9b6b316c-a61e-4fcf-9e87-012687318e11",
   "metadata": {},
   "outputs": [],
   "source": [
    "year = 2016\n",
    "year_country = medals[ medals['year'] == year ]['noc'].value_counts().head(20)"
   ]
  },
  {
   "cell_type": "code",
   "execution_count": 28,
   "id": "235e1db0-15d9-4754-851d-a7f73a66cdf6",
   "metadata": {},
   "outputs": [
    {
     "data": {
      "image/png": "[encoded data removed]",
      "text/plain": [
       "<Figure size 2000x500 with 1 Axes>"
      ]
     },
     "metadata": {},
     "output_type": "display_data"
    }
   ],
   "source": [
    "plotBarGraph(\n",
    "    X=year_country.index , Y=year_country.values,\n",
    "    XLabel=\"Country\" , YLabel=\"Count\", label='country',\n",
    "    title=f'Top {year_country.shape[0]} countries having medals in the year {year}',\n",
    "    color=\"skyblue\"\n",
    ")"
   ]
  },
  {
   "cell_type": "code",
   "execution_count": 29,
   "id": "a599f996-a663-456b-b742-5f747dd1d36b",
   "metadata": {},
   "outputs": [],
   "source": [
    "def plotLineGraph( X,Y,XLabel,YLabel,label,title,color='blue' ):\n",
    "    plt.figure(figsize=(15,5))\n",
    "    plt.plot( X,Y,marker='o', linestyle='-',color=color,label=label )\n",
    "    plt.title(title)\n",
    "    plt.xlabel(XLabel)\n",
    "    plt.ylabel(YLabel)\n",
    "    # plt.xticks(degree=45)\n",
    "    plt.legend()\n",
    "    plt.show()"
   ]
  },
  {
   "cell_type": "code",
   "execution_count": null,
   "id": "2e317f47-4c8b-4162-9770-1cf6d8e2066b",
   "metadata": {},
   "outputs": [],
   "source": []
  },
  {
   "cell_type": "markdown",
   "id": "825b8346-aa32-4d06-aae9-a3ae11fae5d5",
   "metadata": {},
   "source": [
    "# Medals received by the specific country in year-wise"
   ]
  },
  {
   "cell_type": "code",
   "execution_count": 43,
   "id": "f069d380-2516-438b-8493-b1e129061738",
   "metadata": {},
   "outputs": [],
   "source": [
    "country_code = 'IND'\n",
    "\n",
    "country_df = medals[ medals['noc'] == country_code ]\n",
    "\n",
    "year_df = country_df.groupby('year')\n",
    "\n",
    "specific_country_year = year_df['medal'].count()"
   ]
  },
  {
   "cell_type": "code",
   "execution_count": null,
   "id": "657bb573-6908-4b46-8d5a-52d773072559",
   "metadata": {},
   "outputs": [],
   "source": []
  },
  {
   "cell_type": "code",
   "execution_count": 44,
   "id": "13c25f4d-917e-4fff-bb4b-2b5e2ac06abf",
   "metadata": {},
   "outputs": [
    {
     "data": {
      "image/png": "[encoded data removed]",
      "text/plain": [
       "<Figure size 1500x500 with 1 Axes>"
      ]
     },
     "metadata": {},
     "output_type": "display_data"
    }
   ],
   "source": [
    "plotLineGraph(\n",
    "    X=specific_country_year.index,Y=specific_country_year.values,\n",
    "    XLabel=\"Year\",YLabel=\"Count\",label=\"Medal Count\",\n",
    "    title=f'Year wise medals received by the country {country_code}',\n",
    "    color=\"green\"\n",
    ")"
   ]
  },
  {
   "cell_type": "markdown",
   "id": "17127bd4-92a8-4974-a72f-edd964a2bb62",
   "metadata": {},
   "source": [
    "# Medals received by the country in a particular year"
   ]
  },
  {
   "cell_type": "code",
   "execution_count": 52,
   "id": "3fe7a9b6-5372-46f0-9010-164eaad579c5",
   "metadata": {},
   "outputs": [],
   "source": [
    "year = 2012\n",
    "country_code = 'JPN'\n",
    "country_df = medals[ (medals['noc'] == country_code) & (medals['year'] == year) ]\n",
    "country_values = country_df['medal'].value_counts()"
   ]
  },
  {
   "cell_type": "code",
   "execution_count": 54,
   "id": "cd416afd-281a-4e66-9c72-bd3774662c95",
   "metadata": {},
   "outputs": [
    {
     "data": {
      "image/png": "[encoded data removed]",
      "text/plain": [
       "<Figure size 2000x500 with 1 Axes>"
      ]
     },
     "metadata": {},
     "output_type": "display_data"
    }
   ],
   "source": [
    "plotBarGraph(\n",
    "    X=country_values.index,\n",
    "    Y=country_values.values,\n",
    "    XLabel=\"Type Of Medal\",\n",
    "    YLabel=\"Count\",\n",
    "    label='Medals ',\n",
    "    title=f'Medals received by {country_code} in the year {year}',\n",
    "    color='orange'\n",
    ")"
   ]
  },
  {
   "cell_type": "code",
   "execution_count": null,
   "id": "1ebec2ab-2527-4a30-b844-ef77fd049287",
   "metadata": {},
   "outputs": [],
   "source": []
  },
  {
   "cell_type": "markdown",
   "id": "0026e36e-a5ba-4e16-867a-16a206ad4bc7",
   "metadata": {},
   "source": [
    "# Population of the specif country"
   ]
  },
  {
   "cell_type": "code",
   "execution_count": 32,
   "id": "54800f3a-28dc-436b-a580-82165f71739e",
   "metadata": {},
   "outputs": [],
   "source": [
    "country_code = 'IND'\n",
    "country_data = population[ population['Country Code'] == country_code ].iloc[ : , 42:]"
   ]
  },
  {
   "cell_type": "code",
   "execution_count": 33,
   "id": "b0802062-143a-43ec-a2da-a0f2e34d2558",
   "metadata": {},
   "outputs": [
    {
     "data": {
      "image/png": "[encoded data removed]",
      "text/plain": [
       "<Figure size 2000x500 with 1 Axes>"
      ]
     },
     "metadata": {},
     "output_type": "display_data"
    }
   ],
   "source": [
    "plotBarGraph(\n",
    "    X=country_data.columns.tolist(),\n",
    "    Y=country_data.values.flatten().tolist(),\n",
    "    XLabel=\"Year\",\n",
    "    YLabel=\"Population\",\n",
    "    label=f'Population ',\n",
    "    title=f'Population of {country_code} in different years',\n",
    "    color='green'\n",
    ")"
   ]
  },
  {
   "cell_type": "code",
   "execution_count": null,
   "id": "49bc5e8b-7ae2-45c2-a68a-f21f9d38bcf5",
   "metadata": {},
   "outputs": [],
   "source": []
  },
  {
   "cell_type": "code",
   "execution_count": 34,
   "id": "370a6052-0ccb-411f-b868-6c07ecfceff0",
   "metadata": {},
   "outputs": [
    {
     "data": {
      "text/html": [
       "<div>\n",
       "<style scoped>\n",
       "    .dataframe tbody tr th:only-of-type {\n",
       "        vertical-align: middle;\n",
       "    }\n",
       "\n",
       "    .dataframe tbody tr th {\n",
       "        vertical-align: top;\n",
       "    }\n",
       "\n",
       "    .dataframe thead th {\n",
       "        text-align: right;\n",
       "    }\n",
       "</style>\n",
       "<table border=\"1\" class=\"dataframe\">\n",
       "  <thead>\n",
       "    <tr style=\"text-align: right;\">\n",
       "      <th></th>\n",
       "      <th>year</th>\n",
       "      <th>type</th>\n",
       "      <th>discipline</th>\n",
       "      <th>event</th>\n",
       "      <th>as</th>\n",
       "      <th>athlete_id</th>\n",
       "      <th>noc</th>\n",
       "      <th>team</th>\n",
       "      <th>place</th>\n",
       "      <th>tied</th>\n",
       "      <th>medal</th>\n",
       "    </tr>\n",
       "  </thead>\n",
       "  <tbody>\n",
       "    <tr>\n",
       "      <th>9</th>\n",
       "      <td>1924.0</td>\n",
       "      <td>Summer</td>\n",
       "      <td>Tennis</td>\n",
       "      <td>Doubles, Men (Olympic)</td>\n",
       "      <td>Jean Borotra</td>\n",
       "      <td>3</td>\n",
       "      <td>FRA</td>\n",
       "      <td>René Lacoste</td>\n",
       "      <td>3.0</td>\n",
       "      <td>False</td>\n",
       "      <td>Bronze</td>\n",
       "    </tr>\n",
       "    <tr>\n",
       "      <th>12</th>\n",
       "      <td>1924.0</td>\n",
       "      <td>Summer</td>\n",
       "      <td>Tennis</td>\n",
       "      <td>Doubles, Men (Olympic)</td>\n",
       "      <td>Jacques Brugnon</td>\n",
       "      <td>4</td>\n",
       "      <td>FRA</td>\n",
       "      <td>Henri Cochet</td>\n",
       "      <td>2.0</td>\n",
       "      <td>False</td>\n",
       "      <td>Silver</td>\n",
       "    </tr>\n",
       "    <tr>\n",
       "      <th>14</th>\n",
       "      <td>1912.0</td>\n",
       "      <td>Summer</td>\n",
       "      <td>Tennis</td>\n",
       "      <td>Doubles, Mixed (Olympic)</td>\n",
       "      <td>Albert Canet</td>\n",
       "      <td>5</td>\n",
       "      <td>FRA</td>\n",
       "      <td>Marguerite Broquedis</td>\n",
       "      <td>3.0</td>\n",
       "      <td>False</td>\n",
       "      <td>Bronze</td>\n",
       "    </tr>\n",
       "    <tr>\n",
       "      <th>15</th>\n",
       "      <td>1912.0</td>\n",
       "      <td>Summer</td>\n",
       "      <td>Tennis</td>\n",
       "      <td>Doubles, Men (Olympic)</td>\n",
       "      <td>Albert Canet</td>\n",
       "      <td>5</td>\n",
       "      <td>FRA</td>\n",
       "      <td>Édouard Mény de Marangue</td>\n",
       "      <td>3.0</td>\n",
       "      <td>False</td>\n",
       "      <td>Bronze</td>\n",
       "    </tr>\n",
       "    <tr>\n",
       "      <th>21</th>\n",
       "      <td>2000.0</td>\n",
       "      <td>Summer</td>\n",
       "      <td>Table Tennis</td>\n",
       "      <td>Doubles, Men (Olympic)</td>\n",
       "      <td>Patrick Chila</td>\n",
       "      <td>7</td>\n",
       "      <td>FRA</td>\n",
       "      <td>Jean-Philippe Gatien</td>\n",
       "      <td>3.0</td>\n",
       "      <td>False</td>\n",
       "      <td>Bronze</td>\n",
       "    </tr>\n",
       "  </tbody>\n",
       "</table>\n",
       "</div>"
      ],
      "text/plain": [
       "      year    type    discipline                     event               as  \\\n",
       "9   1924.0  Summer        Tennis    Doubles, Men (Olympic)     Jean Borotra   \n",
       "12  1924.0  Summer        Tennis    Doubles, Men (Olympic)  Jacques Brugnon   \n",
       "14  1912.0  Summer        Tennis  Doubles, Mixed (Olympic)     Albert Canet   \n",
       "15  1912.0  Summer        Tennis    Doubles, Men (Olympic)     Albert Canet   \n",
       "21  2000.0  Summer  Table Tennis    Doubles, Men (Olympic)    Patrick Chila   \n",
       "\n",
       "    athlete_id  noc                      team  place   tied   medal  \n",
       "9            3  FRA              René Lacoste    3.0  False  Bronze  \n",
       "12           4  FRA              Henri Cochet    2.0  False  Silver  \n",
       "14           5  FRA      Marguerite Broquedis    3.0  False  Bronze  \n",
       "15           5  FRA  Édouard Mény de Marangue    3.0  False  Bronze  \n",
       "21           7  FRA      Jean-Philippe Gatien    3.0  False  Bronze  "
      ]
     },
     "execution_count": 34,
     "metadata": {},
     "output_type": "execute_result"
    }
   ],
   "source": [
    "medals.head()"
   ]
  },
  {
   "cell_type": "code",
   "execution_count": null,
   "id": "69ef59f7-c9d8-484d-a05c-d4765fcb9b00",
   "metadata": {},
   "outputs": [],
   "source": []
  },
  {
   "cell_type": "code",
   "execution_count": null,
   "id": "f98393b3-6129-4e1f-b40a-f7d8efabeff5",
   "metadata": {},
   "outputs": [],
   "source": []
  },
  {
   "cell_type": "code",
   "execution_count": null,
   "id": "3607e7e0-09fe-4cef-b9f8-eeddf1d7196b",
   "metadata": {},
   "outputs": [],
   "source": []
  },
  {
   "cell_type": "code",
   "execution_count": null,
   "id": "5939646b-e672-4bf1-b2ea-1728d73a860d",
   "metadata": {},
   "outputs": [],
   "source": []
  }
 ],
 "metadata": {
  "kernelspec": {
   "display_name": "Python 3 (ipykernel)",
   "language": "python",
   "name": "python3"
  },
  "language_info": {
   "codemirror_mode": {
    "name": "ipython",
    "version": 3
   },
   "file_extension": ".py",
   "mimetype": "text/x-python",
   "name": "python",
   "nbconvert_exporter": "python",
   "pygments_lexer": "ipython3",
   "version": "3.12.4"
  }
 },
 "nbformat": 4,
 "nbformat_minor": 5
}
